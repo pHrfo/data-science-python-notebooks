{
 "cells": [
  {
   "cell_type": "markdown",
   "metadata": {
    "collapsed": false
   },
   "source": [
    "# KNN\n",
    "\n",
    "Este notebook contem a implementação do $KNN$ força bruta feita para a disciplina CK0149 - GARIMPAGEM DE DADOS 2016.2"
   ]
  },
  {
   "cell_type": "markdown",
   "metadata": {},
   "source": [
    "## 1. Handler dos dados\n",
    "\n",
    "Primeiro, precisamos carregar os dados do arquivo do dataset e organizá-los em alguma estrutura. Teremos de usar o NumPy para a manipulação das matrizes."
   ]
  },
  {
   "cell_type": "code",
   "execution_count": 1,
   "metadata": {
    "collapsed": false,
    "scrolled": true
   },
   "outputs": [
    {
     "data": {
      "text/plain": [
       "306"
      ]
     },
     "execution_count": 1,
     "metadata": {},
     "output_type": "execute_result"
    }
   ],
   "source": [
    "import numpy as np\n",
    "import math\n",
    "import warnings\n",
    "warnings.filterwarnings(\"ignore\")\n",
    "\n",
    "data = np.loadtxt(\"haberman.data\", delimiter = ',')\n",
    "len(data)"
   ]
  },
  {
   "cell_type": "markdown",
   "metadata": {},
   "source": [
    "Agora, os dados do dataset estão armazenados na matriz data. Agora, devemos embaralhar os dados e separá-los em conjuntos de treino e teste. Como temos 306 entradas no dataset, usaremos uma porcentagem definida abaixo como 67% para treino e o resto para teste."
   ]
  },
  {
   "cell_type": "code",
   "execution_count": 2,
   "metadata": {
    "collapsed": false
   },
   "outputs": [],
   "source": [
    "rand_data = np.random.permutation(data)\n",
    "\n",
    "sep = int(0.67*len(rand_data))\n",
    "\n",
    "train_data = rand_data[:sep, :3]\n",
    "test_data = rand_data[sep:, :3]\n",
    "\n",
    "yTrain_data = rand_data[:sep, 3:]\n",
    "yTest_data = rand_data[sep:, 3:]\n"
   ]
  },
  {
   "cell_type": "markdown",
   "metadata": {},
   "source": [
    "Agora os dados estão prontos para a manipulação."
   ]
  },
  {
   "cell_type": "markdown",
   "metadata": {},
   "source": [
    "## 2. Medida de Similaridade\n",
    "\n",
    "O algoritmo $KNN$ busca o conjunto de $K$ pontos mais próximos de um ponto $x$. Assim, precisamos definir uma medida de distância para comparar os dados. Como nosso conjunto de dados é numérico, usaremos a distância euclidiana para tanto. Usando o NumPy, podemos fazer esse calculo da seguinte maneira"
   ]
  },
  {
   "cell_type": "code",
   "execution_count": 3,
   "metadata": {
    "collapsed": false
   },
   "outputs": [
    {
     "data": {
      "text/plain": [
       "20.024984394500787"
      ]
     },
     "execution_count": 3,
     "metadata": {},
     "output_type": "execute_result"
    }
   ],
   "source": [
    "test =  np.linalg.norm(train_data[1] - train_data[2])\n",
    "test"
   ]
  },
  {
   "cell_type": "markdown",
   "metadata": {},
   "source": [
    "## 3. Vizinhos mais próximos\n",
    "\n",
    "Agora precisamos computar para cada ponto os seus $K$ vizinhos mais próximos. Pra isso, definimos a função getNeighbours() que, dado um ponto, retorna uma lista com seus $K$ vizinhos mais próximos:"
   ]
  },
  {
   "cell_type": "code",
   "execution_count": 4,
   "metadata": {
    "collapsed": false
   },
   "outputs": [],
   "source": [
    "import operator\n",
    "def getNeighbours(point, trainingData, k):\n",
    "    distances = []\n",
    "    length = len(point) - 1\n",
    "    \n",
    "    for p in range(len(trainingData)):\n",
    "        if not np.array_equal(trainingData[p], point):\n",
    "            distances.append([p, np.linalg.norm(point - trainingData[p])])\n",
    "        else:\n",
    "            distances.append([0, 0])\n",
    "    distances.sort(key = operator.itemgetter(1))\n",
    "    distances.pop(0)\n",
    "    \n",
    "    neighbours = []\n",
    "    for i in range(k):\n",
    "        neighbours.append(distances[i][0])\n",
    "    return neighbours"
   ]
  },
  {
   "cell_type": "markdown",
   "metadata": {},
   "source": [
    "## 4. Classificação\n",
    "\n",
    "Uma vez que possuimos os vizinhos mais próximos, precisamos decidir a classe de cada elemento. Para isso, navegaremos pelos vizinhos mais próximos e contaremos a classe com mais representantes."
   ]
  },
  {
   "cell_type": "code",
   "execution_count": 5,
   "metadata": {
    "collapsed": false
   },
   "outputs": [
    {
     "data": {
      "text/plain": [
       "1.0"
      ]
     },
     "execution_count": 5,
     "metadata": {},
     "output_type": "execute_result"
    }
   ],
   "source": [
    "def classify(neighbours):\n",
    "    classCounter = {}\n",
    "    for n in neighbours:\n",
    "        if yTrain_data[n][0] in classCounter:\n",
    "            classCounter[yTrain_data[n][0]] += 1\n",
    "        else:\n",
    "            classCounter[yTrain_data[n][0]] = 1\n",
    "    \n",
    "    output = ''\n",
    "    maxElement = 0\n",
    "    for c in classCounter:\n",
    "        if classCounter[c] > maxElement:\n",
    "            maxElement = classCounter[c]\n",
    "            output = c\n",
    "    return output\n",
    "            \n",
    "\n",
    "classify(getNeighbours(train_data[0], train_data, 3))"
   ]
  },
  {
   "cell_type": "markdown",
   "metadata": {
    "collapsed": true
   },
   "source": [
    "## 5. Medida de precisão\n",
    "\n",
    "Agora, uma vez que somos aptos a classificar conjuntos novos de dados, precisamos de uma função que diga o quão correto foi o processo de classificação. "
   ]
  },
  {
   "cell_type": "code",
   "execution_count": 6,
   "metadata": {
    "collapsed": true
   },
   "outputs": [],
   "source": [
    "def accuracy(yTest, predictions):\n",
    "    correct = 0.\n",
    "    for i in range(len(yTest)):\n",
    "        if int(yTest[i]) == int(predictions[i]):\n",
    "            correct += 1\n",
    "    return (correct/len(yTest))*100.0"
   ]
  },
  {
   "cell_type": "markdown",
   "metadata": {},
   "source": [
    "## 6. Executando o algoritmo\n",
    "\n",
    "Após todos esses passos, precisamos executar o algoritmo para o conjunto de teste e calcular a precisão."
   ]
  },
  {
   "cell_type": "code",
   "execution_count": 7,
   "metadata": {
    "collapsed": false
   },
   "outputs": [
    {
     "data": {
      "text/plain": [
       "79.20792079207921"
      ]
     },
     "execution_count": 7,
     "metadata": {},
     "output_type": "execute_result"
    }
   ],
   "source": [
    "predictions = []\n",
    "for d in test_data:\n",
    "    predictions.append(classify(getNeighbours(d, train_data, 3)))\n",
    "\n",
    "accuracy(yTest_data, predictions)"
   ]
  },
  {
   "cell_type": "markdown",
   "metadata": {
    "collapsed": true
   },
   "source": [
    "## 7. Comparação com scikit-learn\n",
    "\n",
    "Como requisitado na proposição do trabalho, agora iremos comparar os resultados obtidos na implementação acima com os do scikit-learn. Para isso, devemos importar as funções necessárias e aplicá-las para os mesmos conjuntos de treino e teste."
   ]
  },
  {
   "cell_type": "code",
   "execution_count": 8,
   "metadata": {
    "collapsed": false
   },
   "outputs": [
    {
     "name": "stderr",
     "output_type": "stream",
     "text": [
      "/opt/ipnb/lib/python2.7/site-packages/ipykernel/__main__.py:4: DataConversionWarning: A column-vector y was passed when a 1d array was expected. Please change the shape of y to (n_samples, ), for example using ravel().\n"
     ]
    },
    {
     "data": {
      "text/plain": [
       "0.75247524752475248"
      ]
     },
     "execution_count": 8,
     "metadata": {},
     "output_type": "execute_result"
    }
   ],
   "source": [
    "from sklearn.neighbors import KNeighborsClassifier\n",
    "\n",
    "knn3 = KNeighborsClassifier(n_neighbors=3)\n",
    "knn3.fit(train_data, yTrain_data)\n",
    "knn3.score(test_data, yTest_data)"
   ]
  },
  {
   "cell_type": "markdown",
   "metadata": {},
   "source": [
    "Note que os resultados foram muito similares. Nos testes executados, a variação entre os dois não passou de 5%."
   ]
  }
 ],
 "metadata": {
  "kernelspec": {
   "display_name": "Python 2",
   "language": "python",
   "name": "python2"
  },
  "language_info": {
   "codemirror_mode": {
    "name": "ipython",
    "version": 2
   },
   "file_extension": ".py",
   "mimetype": "text/x-python",
   "name": "python",
   "nbconvert_exporter": "python",
   "pygments_lexer": "ipython2",
   "version": "2.7.8"
  }
 },
 "nbformat": 4,
 "nbformat_minor": 1
}
