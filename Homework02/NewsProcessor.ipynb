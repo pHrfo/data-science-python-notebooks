{
 "cells": [
  {
   "cell_type": "markdown",
   "metadata": {},
   "source": [
    "# Processamento de Notícias\n",
    "\n",
    "Este notebook contém a implementação referente ao Trabalho 02 da disciplina CK0149 - Garimpagem de Dados. Consiste do tratamento de dados de notícias do arquivo news_data.xml e a aplicação de algoritmos de classificação sobre os mesmos.\n",
    "\n",
    "* OBS: Favor utilizar o arquivo news_data.xml provido por mim. Fiz algumas alterações no dataset original, removendo algumas linhas, para facilitar a leitura."
   ]
  },
  {
   "cell_type": "markdown",
   "metadata": {},
   "source": [
    "## 1. Lendo o arquivo xml\n",
    "\n",
    "Inicialmente usaremos o pacote xml.etree.ElementTree para ler os dados do arquivo xml."
   ]
  },
  {
   "cell_type": "code",
   "execution_count": 1,
   "metadata": {
    "collapsed": false
   },
   "outputs": [],
   "source": [
    "# -*- coding: utf-8 -*-\n",
    "from lxml import etree as ET\n",
    "\n",
    "with open(\"news_data.xml\", \"r\") as f:\n",
    "    data = f.read()\n",
    "    \n",
    "parser = ET.XMLParser(recover=True)\n",
    "tree = ET.fromstring(data, parser=parser)"
   ]
  },
  {
   "cell_type": "markdown",
   "metadata": {},
   "source": [
    "Aqui vamos selecionar, dentre as tags do arquivo xml, aquelas que queremos. Dessa forma, juntaremos o título, o texto e a descrição de cada notícia para gerar o conjunto de exemplos e o atributo category para obter os labels. Ao final, faremos uma permutação dos dados e separaremos em X e y."
   ]
  },
  {
   "cell_type": "code",
   "execution_count": 2,
   "metadata": {
    "collapsed": false
   },
   "outputs": [],
   "source": [
    "import random\n",
    "\n",
    "news = list()\n",
    "rand = list()\n",
    "data_x = list()\n",
    "data_y = list()\n",
    "for el in tree.iterfind('.//item'):\n",
    "    \n",
    "    element = {}\n",
    "    element.update({'category': el.attrib['category']})\n",
    "    \n",
    "    firstTime = True\n",
    "    for title in el.iterfind('.//title'):\n",
    "        if firstTime:\n",
    "            element.update({'title': title.text})\n",
    "            firstTime = False\n",
    "    \n",
    "    firstTime = True\n",
    "    for description in el.iterfind('.//description'):\n",
    "        if firstTime:\n",
    "            element.update({'description': description.text})\n",
    "            firstTime = False\n",
    "            \n",
    "    \n",
    "    firstTime = True\n",
    "    for text in el.iterfind('.//text'):\n",
    "            if firstTime:\n",
    "                element.update({'text': text.text})\n",
    "                firstTime = False\n",
    "    \n",
    "    \n",
    "    news.append(element)\n",
    "            \n",
    "for element in news:\n",
    "    treatedElement = \"\"\n",
    "    for key in element:\n",
    "        if key == 'category':\n",
    "            category = element[key]\n",
    "        elif element[key] != None:\n",
    "            treatedElement += element[key] + '\\n'\n",
    "    \n",
    "    rand.append((treatedElement, category))\n",
    "\n",
    "rand.pop(1)\n",
    "random.shuffle(rand)\n",
    "    \n",
    "for pair in rand:\n",
    "    data_x.append(pair[0])\n",
    "    data_y.append(pair[1])"
   ]
  },
  {
   "cell_type": "markdown",
   "metadata": {},
   "source": [
    "Nesse momento, temos os textos das notícias tratados dentro da lista data_x e seus respectivos labels na lista data_y"
   ]
  },
  {
   "cell_type": "markdown",
   "metadata": {},
   "source": [
    "## 2. Tratamento das notícias\n",
    "\n",
    "Agora precisamos fazer os tratamentos requisitados das strings (remoção de stopwords, stemming, tokenização e remoção da pontuação). Para isso, usaremos o NLTK."
   ]
  },
  {
   "cell_type": "code",
   "execution_count": 3,
   "metadata": {
    "collapsed": false
   },
   "outputs": [],
   "source": [
    "import nltk\n",
    "from nltk.stem.snowball import SnowballStemmer"
   ]
  },
  {
   "cell_type": "code",
   "execution_count": 4,
   "metadata": {
    "collapsed": false
   },
   "outputs": [],
   "source": [
    "stemmer = SnowballStemmer(\"portuguese\")\n",
    "\n",
    "stopwords = nltk.corpus.stopwords.words('portuguese')\n",
    "\n",
    "data_x_treated = []\n",
    "for element in data_x:\n",
    "    tokenizedElement = nltk.word_tokenize(element)\n",
    "    stemmed = [stemmer.stem(el) for el in tokenizedElement if el not in stopwords]\n",
    "    data_x_treated.append(stemmed)"
   ]
  },
  {
   "cell_type": "code",
   "execution_count": 5,
   "metadata": {
    "collapsed": false
   },
   "outputs": [],
   "source": [
    "undesired = [',', '.', ';', ':', '?', '!', '\"', \"'\", '-', \"%\", \"(\", \")\", \"&\", \"$\", \"+\", \"=\", \"/\"]\n",
    "\n",
    "for data in data_x_treated:\n",
    "    for word in data:\n",
    "        if word in undesired:\n",
    "            data.remove(word)\n",
    "\n",
    "X_full = []\n",
    "for data in data_x_treated:\n",
    "    text = \"\"\n",
    "    for word in data:\n",
    "        text += word + \" \"\n",
    "    X_full.append(text)"
   ]
  },
  {
   "cell_type": "markdown",
   "metadata": {
    "collapsed": true
   },
   "source": [
    "Uma vez que fizemos esse primeiro tratamento, precisamos calcular o TF-IDF, afim de obter as features que usaremos na classificação. Para isso, usaremos o scikit-learn, uma vez que os classificadores usam dados em um formato específico que é fornecido por ele."
   ]
  },
  {
   "cell_type": "code",
   "execution_count": 6,
   "metadata": {
    "collapsed": false
   },
   "outputs": [],
   "source": [
    "from sklearn.feature_extraction.text import CountVectorizer\n",
    "\n",
    "count_vect = CountVectorizer()\n",
    "X_vectorized = count_vect.fit_transform(X_full)"
   ]
  },
  {
   "cell_type": "code",
   "execution_count": 7,
   "metadata": {
    "collapsed": false
   },
   "outputs": [],
   "source": [
    "from sklearn.feature_extraction.text import TfidfTransformer\n",
    "\n",
    "tf_operator = TfidfTransformer(use_idf=False).fit(X_vectorized)\n",
    "X = tf_operator.transform(X_vectorized)"
   ]
  },
  {
   "cell_type": "markdown",
   "metadata": {},
   "source": [
    "Agora estamos prontos para aplicar os classificadores"
   ]
  },
  {
   "cell_type": "markdown",
   "metadata": {},
   "source": [
    "## 3. Classificação\n",
    "\n",
    "Para a classificação, inicialmente devemos separar os dados em treino e teste"
   ]
  },
  {
   "cell_type": "code",
   "execution_count": 8,
   "metadata": {
    "collapsed": false
   },
   "outputs": [
    {
     "data": {
      "text/plain": [
       "(1413, 19825)"
      ]
     },
     "execution_count": 8,
     "metadata": {},
     "output_type": "execute_result"
    }
   ],
   "source": [
    "sep = int(0.67*X.shape[0])\n",
    "\n",
    "X_train = X[:sep]\n",
    "X_test = X[sep:]\n",
    "\n",
    "y_train = data_y[:sep]\n",
    "y_test = data_y[sep:]\n",
    "\n",
    "X_train.shape"
   ]
  },
  {
   "cell_type": "markdown",
   "metadata": {},
   "source": [
    "Agora, vamos iniciar o processo de classificação. Aplicaremos os seguintes classificadores:\n",
    "* Regressão logística pelo método dos mínimos quadrados\n",
    "* K-Vizinhos mais próximos (com K = 3)\n",
    "* Árvore de decisão\n",
    "* Random Forest\n",
    "* Naive Bayes Multinomial\n",
    "* Multi-Layer Perceptron"
   ]
  },
  {
   "cell_type": "markdown",
   "metadata": {},
   "source": [
    "### a) Regressão logística pelo método dos mínimos quadrados"
   ]
  },
  {
   "cell_type": "code",
   "execution_count": 9,
   "metadata": {
    "collapsed": false
   },
   "outputs": [],
   "source": [
    "from sklearn import linear_model\n",
    "scores = []\n",
    "\n",
    "logreg = linear_model.LogisticRegression(C=1e5)\n",
    "logreg.fit(X_train,y_train)\n",
    "scores.append(logreg.score(X_test,y_test))"
   ]
  },
  {
   "cell_type": "markdown",
   "metadata": {},
   "source": [
    "### b) K-Vizinhos mais próximos"
   ]
  },
  {
   "cell_type": "code",
   "execution_count": 10,
   "metadata": {
    "collapsed": false
   },
   "outputs": [],
   "source": [
    "from sklearn.neighbors import KNeighborsClassifier\n",
    "\n",
    "knn3 = KNeighborsClassifier(n_neighbors=4)\n",
    "knn3.fit(X_train, y_train)\n",
    "\n",
    "scores.append(knn3.score(X_test, y_test))"
   ]
  },
  {
   "cell_type": "markdown",
   "metadata": {},
   "source": [
    "### c) Árvore de decisão"
   ]
  },
  {
   "cell_type": "code",
   "execution_count": 11,
   "metadata": {
    "collapsed": false
   },
   "outputs": [],
   "source": [
    "from sklearn.tree import DecisionTreeClassifier\n",
    "\n",
    "dTree = DecisionTreeClassifier(criterion=\"entropy\")\n",
    "dTree.fit(X_train, y_train)\n",
    "\n",
    "scores.append(dTree.score(X_test, y_test))"
   ]
  },
  {
   "cell_type": "markdown",
   "metadata": {},
   "source": [
    "### d) Random Forest"
   ]
  },
  {
   "cell_type": "code",
   "execution_count": 12,
   "metadata": {
    "collapsed": true
   },
   "outputs": [],
   "source": [
    "from sklearn.ensemble import RandomForestClassifier\n",
    "\n",
    "randForest = RandomForestClassifier(n_estimators = 50)\n",
    "randForest.fit(X_train, y_train)\n",
    "\n",
    "scores.append(randForest.score(X_test, y_test))"
   ]
  },
  {
   "cell_type": "markdown",
   "metadata": {},
   "source": [
    "### e) Naive Bayes Multinomial"
   ]
  },
  {
   "cell_type": "code",
   "execution_count": 13,
   "metadata": {
    "collapsed": false
   },
   "outputs": [],
   "source": [
    "from sklearn.naive_bayes import MultinomialNB\n",
    "\n",
    "multinomialNB = MultinomialNB()\n",
    "multinomialNB.fit(X_train, y_train)\n",
    "scores.append(multinomialNB.score(X_test, y_test))"
   ]
  },
  {
   "cell_type": "markdown",
   "metadata": {},
   "source": [
    "### f) Multi-Layer Perceptron"
   ]
  },
  {
   "cell_type": "code",
   "execution_count": 14,
   "metadata": {
    "collapsed": false
   },
   "outputs": [],
   "source": [
    "from sklearn.neural_network import MLPClassifier\n",
    "\n",
    "mlp = MLPClassifier(solver='lbfgs', alpha=1e-5, hidden_layer_sizes=(19, 20), random_state=1)\n",
    "mlp.fit(X_train, y_train)\n",
    "scores.append(mlp.score(X_test, y_test))"
   ]
  },
  {
   "cell_type": "markdown",
   "metadata": {},
   "source": [
    "## 4. Gráficos\n",
    "\n",
    "Para discutir os resultados, alguns gráficos serão plotados.\n",
    "\n",
    "### a) Scores por classificador"
   ]
  },
  {
   "cell_type": "code",
   "execution_count": 15,
   "metadata": {
    "collapsed": false
   },
   "outputs": [
    {
     "data": {
      "image/png": "[encoded data removed]",
      "text/plain": [
       "<matplotlib.figure.Figure at 0x7f71aca7ef90>"
      ]
     },
     "metadata": {},
     "output_type": "display_data"
    }
   ],
   "source": [
    "import matplotlib.pyplot as plt\n",
    "\n",
    "xticks = ['logisticRegression', 'KNN', 'decisionTree', 'randomForest', 'MultinomialNB', 'MLP']\n",
    "x = range(6)\n",
    "plt.xticks(x, xticks)\n",
    "plt.plot(x, scores, 'ro--')\n",
    "plt.show()\n"
   ]
  },
  {
   "cell_type": "markdown",
   "metadata": {},
   "source": [
    "Como podemos ver, os classificadores que obtiveram os maiores scores para esse dataset foram o método dos mínimos quadrados e o KNN."
   ]
  },
  {
   "cell_type": "markdown",
   "metadata": {},
   "source": [
    "### b) KNN: score em função do valor de $K$\n",
    "\n",
    "Uma análise interessante a ser feita é a acurácia do KNN em função do valor de $K$."
   ]
  },
  {
   "cell_type": "code",
   "execution_count": 16,
   "metadata": {
    "collapsed": false
   },
   "outputs": [
    {
     "data": {
      "image/png": "[encoded data removed]",
      "text/plain": [
       "<matplotlib.figure.Figure at 0x7f71acae4c90>"
      ]
     },
     "metadata": {},
     "output_type": "display_data"
    }
   ],
   "source": [
    "knnscores = []\n",
    "for k in range(20):\n",
    "    knn = KNeighborsClassifier(n_neighbors=(k+1))\n",
    "    knn.fit(X_train, y_train)\n",
    "    knnscores.append(knn.score(X_test, y_test))\n",
    "\n",
    "x = [i + 1 for i in range(20)]\n",
    "plt.plot(x, knnscores, 'ro--')\n",
    "plt.show()"
   ]
  },
  {
   "cell_type": "markdown",
   "metadata": {},
   "source": [
    "Aqui podemos ver que o KNN obtém resultados muito bons em relação aos outros classificadores mesmo ao variar o valor de $K$. Os scores obtidos variam em no máximo 0.060 entre si. Portanto é um ótimo classificador para essa situação."
   ]
  },
  {
   "cell_type": "markdown",
   "metadata": {},
   "source": [
    "### c) Random Forest: Mudando o número de estimadores\n",
    "\n",
    "Vejamos a variação dos scores do classificador Random Forest em função do número de estimadores que utilizamos."
   ]
  },
  {
   "cell_type": "code",
   "execution_count": 17,
   "metadata": {
    "collapsed": false
   },
   "outputs": [
    {
     "data": {
      "image/png": "[encoded data removed]",
      "text/plain": [
       "<matplotlib.figure.Figure at 0x7f718b2a5dd0>"
      ]
     },
     "metadata": {},
     "output_type": "display_data"
    }
   ],
   "source": [
    "forestScores = []\n",
    "\n",
    "for n_est in range(100):\n",
    "    randForest = RandomForestClassifier(n_estimators = (n_est + 1))\n",
    "    randForest.fit(X_train, y_train)\n",
    "    forestScores.append(randForest.score(X_test, y_test))\n",
    "\n",
    "x = [(i + 1) for i in range(100)]\n",
    "plt.plot(x, forestScores, 'ro--')\n",
    "plt.show()"
   ]
  },
  {
   "cell_type": "markdown",
   "metadata": {},
   "source": [
    "Aqui vemos um resultado muito interessante: Mesmo que dobremos o numero de classificadores que usamos no classificador da seção 1.3.4 (no caso 50), o score obtido não será muito melhor. Os scores tendem para um valor próximo de 70% quando aumentamos o número de estimadores."
   ]
  },
  {
   "cell_type": "markdown",
   "metadata": {},
   "source": [
    "### d) MLP: Análises em relação as camadas ocultas\n",
    "\n",
    "Um grande desafio no design de redes neurais é na escolha do número de camadas ocultas que serão usadas e o número de neurônios nelas contidas. Mesmo que o MLP tenha performance bem menor que KNN ou mínimos quadrados, essa análise pode nos dizer muito sobre esses classificadores. Aqui vamos inicialmente variar o número de camadas ocultas (mantendo 20 neurônios para cada), para ter um comparativo de scores obtidos."
   ]
  },
  {
   "cell_type": "code",
   "execution_count": 19,
   "metadata": {
    "collapsed": false
   },
   "outputs": [
    {
     "data": {
      "image/png": "[encoded data removed]",
      "text/plain": [
       "<matplotlib.figure.Figure at 0x7f71c22d0f10>"
      ]
     },
     "metadata": {},
     "output_type": "display_data"
    }
   ],
   "source": [
    "mlpscores = []\n",
    "\n",
    "for n_layers in range(20):\n",
    "    mlp = MLPClassifier(solver='lbfgs', alpha=1e-5, hidden_layer_sizes=(n_layers + 1, 20), random_state=1)\n",
    "    mlp.fit(X_train, y_train)\n",
    "    mlpscores.append(mlp.score(X_test, y_test))\n",
    "\n",
    "x = [i + 1 for i in range(20)]\n",
    "plt.plot(x, mlpscores, 'ro--')\n",
    "plt.show()"
   ]
  },
  {
   "cell_type": "markdown",
   "metadata": {},
   "source": [
    "Podemos ver que os resultados parecem não se dispor em nenhum padrão em função do número de camadas ocultas, inicialmente variando bastante mas depois se se tornando próximos da marca de 0,70. Por isso, tomemos o número de camadas que obteve o melhor resultado (no caso, 19) e variemos o número de neurônios por camada."
   ]
  },
  {
   "cell_type": "code",
   "execution_count": 20,
   "metadata": {
    "collapsed": false
   },
   "outputs": [
    {
     "data": {
      "image/png": "[encoded data removed]",
      "text/plain": [
       "<matplotlib.figure.Figure at 0x7f71aca47ed0>"
      ]
     },
     "metadata": {},
     "output_type": "display_data"
    }
   ],
   "source": [
    "mlpscores = []\n",
    "\n",
    "for n_neurons in range(20):\n",
    "    mlp = MLPClassifier(solver='lbfgs', alpha=1e-5, hidden_layer_sizes=(19, n_neurons + 1), random_state=1)\n",
    "    mlp.fit(X_train, y_train)\n",
    "    mlpscores.append(mlp.score(X_test, y_test))\n",
    "\n",
    "x = [i + 1 for i in range(20)]\n",
    "plt.plot(x, mlpscores, 'ro--')\n",
    "plt.show()"
   ]
  },
  {
   "cell_type": "markdown",
   "metadata": {
    "collapsed": true
   },
   "source": [
    "Vemos aqui que o número de neurônios por camada oculta também varia os scores de maneira desordenada, os quais porém parecem tender para um valor comum quando aumentamos a quantidade de neurônios."
   ]
  }
 ],
 "metadata": {
  "kernelspec": {
   "display_name": "Python 2",
   "language": "python",
   "name": "python2"
  },
  "language_info": {
   "codemirror_mode": {
    "name": "ipython",
    "version": 2
   },
   "file_extension": ".py",
   "mimetype": "text/x-python",
   "name": "python",
   "nbconvert_exporter": "python",
   "pygments_lexer": "ipython2",
   "version": "2.7.8"
  }
 },
 "nbformat": 4,
 "nbformat_minor": 1
}
