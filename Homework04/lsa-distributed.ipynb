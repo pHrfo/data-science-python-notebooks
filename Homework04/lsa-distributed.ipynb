{
 "cells": [
  {
   "cell_type": "markdown",
   "metadata": {},
   "source": [
    "# LSA in pyspark\n",
    "\n",
    "In this notebook, we'll implement the Latent Semantic Analysis (LSA) in pyspark"
   ]
  },
  {
   "cell_type": "code",
   "execution_count": 36,
   "metadata": {
    "collapsed": true
   },
   "outputs": [],
   "source": [
    "from pyspark.mllib.linalg import Vectors,DenseVector\n",
    "from pyspark.mllib.feature import HashingTF, IDF\n",
    "from pyspark.mllib.common import callMLlibFunc, JavaModelWrapper\n",
    "from pyspark.mllib.linalg.distributed import RowMatrix\n",
    "from nltk import word_tokenize\n",
    "from nltk.corpus import stopwords\n",
    "from nltk.stem.wordnet import WordNetLemmatizer\n",
    "from nltk.stem.snowball import SnowballStemmer\n",
    "from sklearn.decomposition import TruncatedSVD\n",
    "from sklearn.feature_extraction.text import TfidfTransformer\n",
    "from sklearn.feature_extraction.text import CountVectorizer\n",
    "from scipy.sparse import csr_matrix"
   ]
  },
  {
   "cell_type": "markdown",
   "metadata": {},
   "source": [
    "## Pre processing and computing the tf-idf matrix"
   ]
  },
  {
   "cell_type": "code",
   "execution_count": 46,
   "metadata": {
    "collapsed": false
   },
   "outputs": [],
   "source": [
    "stemmer = SnowballStemmer(\"english\")\n",
    "\n",
    "def pre_process(line):\n",
    "    undesired = [\"[\", \"]\", \"/\", \"'\", \"''\", '\"', '\"\"', \"&\", \";\", \",\", \".\", \"\"]\n",
    "    return [stemmer.stem(word) for word in word_tokenize(line) if word not in stopwords.words(\"english\") and word not in undesired]\n",
    "    \n",
    "documents = sc.textFile(\"anarchism_clean.txt\").map(pre_process)\n",
    "cv = CountVectorizer()\n",
    "X_data = []\n",
    "for prgph in documents.collect():\n",
    "    X_data.append(\" \".join(word for word in prgph))\n",
    "vectorized = cv.fit_transform(X_data)"
   ]
  },
  {
   "cell_type": "code",
   "execution_count": 47,
   "metadata": {
    "collapsed": false
   },
   "outputs": [],
   "source": [
    "#hashingTF = HashingTF()\n",
    "#tf = hashingTF.transform(documents)\n",
    "#idf = IDF().fit(tf)\n",
    "#tfidf = idf.transform(tf)\n",
    "#tfidf.cache()\n",
    "\n",
    "tf_operator = TfidfTransformer().fit(vectorized)\n",
    "X = tf_operator.transform(vectorized)"
   ]
  },
  {
   "cell_type": "code",
   "execution_count": 5,
   "metadata": {
    "collapsed": false,
    "scrolled": false
   },
   "outputs": [
    {
     "data": {
      "text/plain": [
       "(19605, 4.4697322150929875)"
      ]
     },
     "execution_count": 5,
     "metadata": {},
     "output_type": "execute_result"
    }
   ],
   "source": [
    "tfidf.collect()[0].indices[0], tfidf.collect()[0].values[0]"
   ]
  },
  {
   "cell_type": "code",
   "execution_count": 6,
   "metadata": {
    "collapsed": false
   },
   "outputs": [
    {
     "data": {
      "text/plain": [
       "SparseVector(1048576, {19605: 4.4697, 33950: 3.7766, 36751: 3.0034, 58131: 4.4697, 71479: 4.8752, 78557: 4.4697, 80303: 2.9293, 103856: 4.8752, 104239: 4.8752, 104251: 4.3236, 110561: 2.7958, 120541: 4.1821, 121485: 4.4697, 129749: 3.0034, 130175: 3.1704, 169818: 4.8752, 172174: 4.8752, 174017: 3.6224, 183018: 4.8752, 183064: 3.0034, 186843: 11.183, 204364: 8.3641, 213079: 11.7171, 219717: 4.8752, 234843: 3.3711, 241604: 4.4697, 246259: 8.3641, 251525: 3.6224, 274871: 3.4889, 293620: 2.5726, 297254: 7.2449, 297909: 3.7766, 300012: 4.8752, 364791: 6.7084, 368996: 3.3711, 369003: 2.5238, 381981: 4.4697, 382964: 2.8603, 382966: 3.3711, 382967: 3.7766, 385317: 3.6224, 393139: 1.8548, 405588: 4.8752, 418086: 2.9293, 441877: 8.3641, 449119: 4.8752, 449905: 4.4697, 474779: 6.7422, 480946: 4.8752, 490231: 3.9589, 494521: 4.1821, 525521: 4.8752, 533989: 4.8752, 535067: 3.7766, 535972: 2.9293, 541251: 4.8752, 542678: 4.8752, 550870: 3.3711, 552359: 13.6757, 555981: 4.8752, 562497: 4.4697, 563337: 3.6224, 567946: 4.1821, 572634: 4.8752, 573887: 1.9848, 578279: 7.834, 592940: 2.7351, 600041: 8.9395, 602648: 8.3641, 608735: 4.4697, 610151: 3.7766, 614102: 3.6224, 614932: 3.4889, 638130: 8.5374, 655106: 4.8752, 669476: 10.1134, 671097: 4.4697, 676939: 3.7766, 683189: 10.4667, 683507: 6.0068, 685399: 3.7766, 693965: 4.8752, 701139: 6.1669, 704697: 2.4329, 723535: 3.2658, 729338: 3.5967, 748384: 4.1821, 754108: 4.4697, 756194: 4.4697, 767912: 4.8752, 773654: 4.8752, 778958: 7.5715, 799373: 2.7958, 801268: 6.7422, 804896: 14.6256, 838785: 4.8752, 839601: 4.4697, 840156: 8.2054, 853606: 4.4697, 855289: 3.3711, 867369: 4.4724, 869910: 6.9778, 870013: 4.4697, 886775: 2.9293, 894623: 3.1704, 926396: 4.8752, 935326: 3.9589, 941091: 3.2658, 941480: 4.9096, 959994: 3.2342, 960625: 5.7923, 965759: 4.8752, 968518: 2.7351, 977646: 4.1821, 980867: 4.8752, 993791: 4.8752, 994664: 3.9589, 997131: 2.5238, 1002341: 4.8752, 1005876: 2.7958, 1013217: 8.3641, 1022593: 12.6191, 1024475: 3.7766, 1027010: 3.9589})"
      ]
     },
     "execution_count": 6,
     "metadata": {},
     "output_type": "execute_result"
    }
   ],
   "source": [
    "tfidf.collect()[0]"
   ]
  },
  {
   "cell_type": "code",
   "execution_count": 62,
   "metadata": {
    "collapsed": false
   },
   "outputs": [],
   "source": [
    "docs = [[j for i in range(len(tfidf.collect()[j].indices))] for j in range(len(tfidf.collect()))]"
   ]
  },
  {
   "cell_type": "code",
   "execution_count": 63,
   "metadata": {
    "collapsed": false
   },
   "outputs": [],
   "source": [
    "indices = [[i for i in tfidf.collect()[j].indices] for j in range(len(tfidf.collect()))]\n",
    "values = [[i for i in tfidf.collect()[j].values] for j in range(len(tfidf.collect()))]"
   ]
  },
  {
   "cell_type": "code",
   "execution_count": 64,
   "metadata": {
    "collapsed": false
   },
   "outputs": [],
   "source": [
    "indices_list = [index for line in indices for index in line]\n",
    "values_list = [value for line in values for value in line]\n",
    "docs_list = [doc for line in docs for doc in line]\n",
    "\n",
    "#df = sqlContext.createDataFrame(tfidf.collect(), ['features'])"
   ]
  },
  {
   "cell_type": "code",
   "execution_count": 66,
   "metadata": {
    "collapsed": false
   },
   "outputs": [
    {
     "data": {
      "text/plain": [
       "407"
      ]
     },
     "execution_count": 66,
     "metadata": {},
     "output_type": "execute_result"
    }
   ],
   "source": [
    "indices_set = set(indices_list)\n",
    "indices_map = {}\n",
    "counter = 0\n",
    "for index in indices_set:\n",
    "    if index not in indices_map:\n",
    "        indices_map.update({index: counter})\n",
    "        counter += 1\n",
    "\n",
    "indices_list_mapped = [indices_map[index] for index in indices_list]\n",
    "indices_list_mapped[1]"
   ]
  },
  {
   "cell_type": "code",
   "execution_count": 67,
   "metadata": {
    "collapsed": false
   },
   "outputs": [
    {
     "data": {
      "text/plain": [
       "(1168, 4.4697322150929875, 0)"
      ]
     },
     "execution_count": 67,
     "metadata": {},
     "output_type": "execute_result"
    }
   ],
   "source": [
    "indices_list_mapped[0], values_list[0], docs_list[0]"
   ]
  },
  {
   "cell_type": "code",
   "execution_count": 68,
   "metadata": {
    "collapsed": false
   },
   "outputs": [],
   "source": [
    "m = csr_matrix((values_list,(docs_list, indices_list_mapped)))"
   ]
  },
  {
   "cell_type": "code",
   "execution_count": 70,
   "metadata": {
    "collapsed": false
   },
   "outputs": [
    {
     "data": {
      "text/plain": [
       "TruncatedSVD(algorithm='randomized', n_components=500, n_iter=5,\n",
       "       random_state=None, tol=0.0)"
      ]
     },
     "execution_count": 70,
     "metadata": {},
     "output_type": "execute_result"
    }
   ],
   "source": [
    "svd = TruncatedSVD(n_components = 500)\n",
    "svd.fit(m)"
   ]
  },
  {
   "cell_type": "code",
   "execution_count": null,
   "metadata": {
    "collapsed": true
   },
   "outputs": [],
   "source": []
  }
 ],
 "metadata": {
  "kernelspec": {
   "display_name": "Pyspark (Py 2)",
   "language": "",
   "name": "pyspark"
  },
  "language_info": {
   "codemirror_mode": {
    "name": "ipython",
    "version": 2
   },
   "file_extension": ".py",
   "mimetype": "text/x-python",
   "name": "python",
   "nbconvert_exporter": "python",
   "pygments_lexer": "ipython2",
   "version": "2.7.8"
  }
 },
 "nbformat": 4,
 "nbformat_minor": 1
}
